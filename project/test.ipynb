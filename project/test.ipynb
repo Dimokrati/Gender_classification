{
 "cells": [
  {
   "cell_type": "code",
   "execution_count": 14,
   "id": "f5ae8dc2-178d-4f7e-8220-db80fef27ebf",
   "metadata": {},
   "outputs": [],
   "source": [
    "from PIL import Image\n",
    "import cv2\n",
    "import matplotlib.pyplot as plt\n",
    "import numpy as np"
   ]
  },
  {
   "cell_type": "code",
   "execution_count": 60,
   "id": "b00ba0d7-72c5-40f9-abdd-c64c7df5855f",
   "metadata": {},
   "outputs": [],
   "source": [
    "size =209\n",
    "\n"
   ]
  },
  {
   "cell_type": "code",
   "execution_count": 79,
   "id": "3ad5375b-e648-446d-9af2-38724311a03b",
   "metadata": {},
   "outputs": [],
   "source": [
    "import os\n",
    "import librosa\n",
    "import librosa.display\n",
    "import matplotlib.pyplot as plt\n",
    "import numpy as np\n",
    "from PIL import Image\n",
    "\n",
    "def create_spectrogram(audio_file_path, save_path):\n",
    "    # Load audio file\n",
    "    y, sr = librosa.load(audio_file_path)\n",
    "\n",
    "    # Create spectrogram\n",
    "    spec = librosa.feature.melspectrogram(y=y, sr=sr)\n",
    "\n",
    "    # Convert to decibels\n",
    "    spec_db = librosa.power_to_db(spec, ref=np.max)\n",
    "\n",
    "    # Create plot\n",
    "    fig, ax = plt.subplots(figsize=(224/100, 224/100), dpi=100)\n",
    "    ax.axis('off')\n",
    "    img = librosa.display.specshow(spec_db, cmap='viridis', sr=sr, x_axis='time', y_axis='mel')\n",
    "    \n",
    "    # Adjust figure size to match intended image size\n",
    "    ax.set_xlim(0, spec_db.shape[1])\n",
    "    ax.set_ylim(0, spec_db.shape[0])\n",
    "    fig.canvas.draw()\n",
    "    bbox = ax.get_window_extent().transformed(fig.dpi_scale_trans.inverted())\n",
    "    width, height = bbox.width * fig.dpi, bbox.height * fig.dpi\n",
    "    fig.set_size_inches(width / 100, height / 100)\n",
    "\n",
    "    # Save plot\n",
    "    plt.savefig(save_path, bbox_inches='tight', pad_inches=0, transparent=True, dpi=100)\n",
    "    plt.close()\n",
    "\n",
    "    # Resize image to 224x224 pixels\n",
    "    img = Image.open(save_path)\n",
    "    img_resized = img.resize((224, 224))\n",
    "    img_resized.save(save_path)\n"
   ]
  },
  {
   "cell_type": "code",
   "execution_count": 81,
   "id": "6d7e23d3-f88b-48de-ba37-9ad7982dcc57",
   "metadata": {},
   "outputs": [],
   "source": [
    "create_spectrogram('./data/female/1_12_0.wav','../../Documents/project/mklakh1.png')"
   ]
  },
  {
   "cell_type": "code",
   "execution_count": 76,
   "id": "d754bfd5-ff34-4723-a154-f049a74df6d6",
   "metadata": {},
   "outputs": [],
   "source": [
    "j = cv2.imread('./mklakh1.png')\n",
    "j = Image.fromarray(j,'RGB')\n",
    "a = np.array(j)"
   ]
  },
  {
   "cell_type": "code",
   "execution_count": null,
   "id": "c57593b7-bc07-44fb-ad62-c7e0a7a89aa0",
   "metadata": {},
   "outputs": [],
   "source": []
  }
 ],
 "metadata": {
  "kernelspec": {
   "display_name": "Python 3 (ipykernel)",
   "language": "python",
   "name": "python3"
  },
  "language_info": {
   "codemirror_mode": {
    "name": "ipython",
    "version": 3
   },
   "file_extension": ".py",
   "mimetype": "text/x-python",
   "name": "python",
   "nbconvert_exporter": "python",
   "pygments_lexer": "ipython3",
   "version": "3.9.13"
  }
 },
 "nbformat": 4,
 "nbformat_minor": 5
}
